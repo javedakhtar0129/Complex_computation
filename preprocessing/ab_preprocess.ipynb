{
 "cells": [
  {
   "cell_type": "code",
   "execution_count": 1,
   "id": "374d5aa3",
   "metadata": {},
   "outputs": [],
   "source": [
    "import pandas as pd\n",
    "import numpy as np"
   ]
  },
  {
   "cell_type": "code",
   "execution_count": 2,
   "id": "160111f7",
   "metadata": {},
   "outputs": [
    {
     "data": {
      "text/html": [
       "<div>\n",
       "<style scoped>\n",
       "    .dataframe tbody tr th:only-of-type {\n",
       "        vertical-align: middle;\n",
       "    }\n",
       "\n",
       "    .dataframe tbody tr th {\n",
       "        vertical-align: top;\n",
       "    }\n",
       "\n",
       "    .dataframe thead th {\n",
       "        text-align: right;\n",
       "    }\n",
       "</style>\n",
       "<table border=\"1\" class=\"dataframe\">\n",
       "  <thead>\n",
       "    <tr style=\"text-align: right;\">\n",
       "      <th></th>\n",
       "      <th>Unnamed: 0</th>\n",
       "      <th>real</th>\n",
       "      <th>imaginary</th>\n",
       "      <th>power</th>\n",
       "      <th>quadrant</th>\n",
       "      <th>sequence</th>\n",
       "    </tr>\n",
       "  </thead>\n",
       "  <tbody>\n",
       "    <tr>\n",
       "      <th>0</th>\n",
       "      <td>0</td>\n",
       "      <td>-10</td>\n",
       "      <td>-10</td>\n",
       "      <td>2</td>\n",
       "      <td>C</td>\n",
       "      <td>CABAAAAA</td>\n",
       "    </tr>\n",
       "    <tr>\n",
       "      <th>1</th>\n",
       "      <td>8</td>\n",
       "      <td>-10</td>\n",
       "      <td>-10</td>\n",
       "      <td>3</td>\n",
       "      <td>C</td>\n",
       "      <td>CAADDDDD</td>\n",
       "    </tr>\n",
       "    <tr>\n",
       "      <th>2</th>\n",
       "      <td>16</td>\n",
       "      <td>-10</td>\n",
       "      <td>-10</td>\n",
       "      <td>4</td>\n",
       "      <td>C</td>\n",
       "      <td>CDCDCDCD</td>\n",
       "    </tr>\n",
       "    <tr>\n",
       "      <th>3</th>\n",
       "      <td>24</td>\n",
       "      <td>-10</td>\n",
       "      <td>-10</td>\n",
       "      <td>5</td>\n",
       "      <td>C</td>\n",
       "      <td>CBADCBAD</td>\n",
       "    </tr>\n",
       "    <tr>\n",
       "      <th>4</th>\n",
       "      <td>32</td>\n",
       "      <td>-10</td>\n",
       "      <td>-9</td>\n",
       "      <td>2</td>\n",
       "      <td>C</td>\n",
       "      <td>CABDDCBD</td>\n",
       "    </tr>\n",
       "    <tr>\n",
       "      <th>...</th>\n",
       "      <td>...</td>\n",
       "      <td>...</td>\n",
       "      <td>...</td>\n",
       "      <td>...</td>\n",
       "      <td>...</td>\n",
       "      <td>...</td>\n",
       "    </tr>\n",
       "    <tr>\n",
       "      <th>1759</th>\n",
       "      <td>14072</td>\n",
       "      <td>10</td>\n",
       "      <td>9</td>\n",
       "      <td>5</td>\n",
       "      <td>A</td>\n",
       "      <td>ADCCBDCC</td>\n",
       "    </tr>\n",
       "    <tr>\n",
       "      <th>1760</th>\n",
       "      <td>14080</td>\n",
       "      <td>10</td>\n",
       "      <td>10</td>\n",
       "      <td>2</td>\n",
       "      <td>A</td>\n",
       "      <td>AABAAAAA</td>\n",
       "    </tr>\n",
       "    <tr>\n",
       "      <th>1761</th>\n",
       "      <td>14088</td>\n",
       "      <td>10</td>\n",
       "      <td>10</td>\n",
       "      <td>3</td>\n",
       "      <td>A</td>\n",
       "      <td>AAADDDDD</td>\n",
       "    </tr>\n",
       "    <tr>\n",
       "      <th>1762</th>\n",
       "      <td>14096</td>\n",
       "      <td>10</td>\n",
       "      <td>10</td>\n",
       "      <td>4</td>\n",
       "      <td>A</td>\n",
       "      <td>ABABABAB</td>\n",
       "    </tr>\n",
       "    <tr>\n",
       "      <th>1763</th>\n",
       "      <td>14104</td>\n",
       "      <td>10</td>\n",
       "      <td>10</td>\n",
       "      <td>5</td>\n",
       "      <td>A</td>\n",
       "      <td>ADCBADCB</td>\n",
       "    </tr>\n",
       "  </tbody>\n",
       "</table>\n",
       "<p>1764 rows × 6 columns</p>\n",
       "</div>"
      ],
      "text/plain": [
       "      Unnamed: 0  real  imaginary  power quadrant  sequence\n",
       "0              0   -10        -10      2        C  CABAAAAA\n",
       "1              8   -10        -10      3        C  CAADDDDD\n",
       "2             16   -10        -10      4        C  CDCDCDCD\n",
       "3             24   -10        -10      5        C  CBADCBAD\n",
       "4             32   -10         -9      2        C  CABDDCBD\n",
       "...          ...   ...        ...    ...      ...       ...\n",
       "1759       14072    10          9      5        A  ADCCBDCC\n",
       "1760       14080    10         10      2        A  AABAAAAA\n",
       "1761       14088    10         10      3        A  AAADDDDD\n",
       "1762       14096    10         10      4        A  ABABABAB\n",
       "1763       14104    10         10      5        A  ADCBADCB\n",
       "\n",
       "[1764 rows x 6 columns]"
      ]
     },
     "execution_count": 2,
     "metadata": {},
     "output_type": "execute_result"
    }
   ],
   "source": [
    "df = pd.read_csv('complex_raw4.csv')\n",
    "df"
   ]
  },
  {
   "cell_type": "code",
   "execution_count": 27,
   "id": "a1dc2ce6",
   "metadata": {},
   "outputs": [
    {
     "data": {
      "text/html": [
       "<div>\n",
       "<style scoped>\n",
       "    .dataframe tbody tr th:only-of-type {\n",
       "        vertical-align: middle;\n",
       "    }\n",
       "\n",
       "    .dataframe tbody tr th {\n",
       "        vertical-align: top;\n",
       "    }\n",
       "\n",
       "    .dataframe thead th {\n",
       "        text-align: right;\n",
       "    }\n",
       "</style>\n",
       "<table border=\"1\" class=\"dataframe\">\n",
       "  <thead>\n",
       "    <tr style=\"text-align: right;\">\n",
       "      <th></th>\n",
       "      <th>Unnamed: 0</th>\n",
       "      <th>real</th>\n",
       "      <th>imaginary</th>\n",
       "      <th>power</th>\n",
       "      <th>quadrant</th>\n",
       "      <th>sequence</th>\n",
       "    </tr>\n",
       "  </thead>\n",
       "  <tbody>\n",
       "  </tbody>\n",
       "</table>\n",
       "</div>"
      ],
      "text/plain": [
       "Empty DataFrame\n",
       "Columns: [Unnamed: 0, real, imaginary, power, quadrant, sequence]\n",
       "Index: []"
      ]
     },
     "execution_count": 27,
     "metadata": {},
     "output_type": "execute_result"
    }
   ],
   "source": [
    "df[df['sequence'].astype(str).str[0:4]=='BCDA']"
   ]
  },
  {
   "cell_type": "code",
   "execution_count": 26,
   "id": "6f018a70",
   "metadata": {},
   "outputs": [
    {
     "data": {
      "text/plain": [
       "0       CABA\n",
       "1       CAAD\n",
       "2       CDCD\n",
       "3       CBAD\n",
       "4       CABD\n",
       "        ... \n",
       "1759    ADCC\n",
       "1760    AABA\n",
       "1761    AAAD\n",
       "1762    ABAB\n",
       "1763    ADCB\n",
       "Name: sequence, Length: 1764, dtype: object"
      ]
     },
     "execution_count": 26,
     "metadata": {},
     "output_type": "execute_result"
    }
   ],
   "source": [
    "df['sequence'].astype(str).str[0:4]"
   ]
  },
  {
   "cell_type": "code",
   "execution_count": null,
   "id": "343b821b",
   "metadata": {},
   "outputs": [],
   "source": []
  }
 ],
 "metadata": {
  "kernelspec": {
   "display_name": "Python 3 (ipykernel)",
   "language": "python",
   "name": "python3"
  },
  "language_info": {
   "codemirror_mode": {
    "name": "ipython",
    "version": 3
   },
   "file_extension": ".py",
   "mimetype": "text/x-python",
   "name": "python",
   "nbconvert_exporter": "python",
   "pygments_lexer": "ipython3",
   "version": "3.11.0"
  }
 },
 "nbformat": 4,
 "nbformat_minor": 5
}
