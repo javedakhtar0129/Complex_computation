{
 "cells": [
  {
   "cell_type": "code",
   "execution_count": 1,
   "id": "eb61de8b",
   "metadata": {},
   "outputs": [],
   "source": [
    "import dask.dataframe as pd\n",
    "from dask.delayed import delayed\n",
    "import numpy as np\n",
    "from decimal import Decimal,ROUND_HALF_UP"
   ]
  },
  {
   "cell_type": "code",
   "execution_count": 2,
   "id": "7d6fac2b",
   "metadata": {},
   "outputs": [],
   "source": [
    "df = pd.read_csv('/Users/javedakhtar/Documents/JAVED/PROGRAMMING/PYTHON/0Projects/complex_raw_org_p5.csv').compute()"
   ]
  },
  {
   "cell_type": "code",
   "execution_count": 3,
   "id": "3dcc5dd2",
   "metadata": {},
   "outputs": [],
   "source": [
    "def to_decimal(data):\n",
    "    if data=='xx':\n",
    "        return 'xx'\n",
    "    return Decimal(data)"
   ]
  },
  {
   "cell_type": "code",
   "execution_count": 4,
   "id": "4810a48c",
   "metadata": {},
   "outputs": [
    {
     "name": "stdout",
     "output_type": "stream",
     "text": [
      "(36018000, 4)\n"
     ]
    },
    {
     "data": {
      "text/html": [
       "<div>\n",
       "<style scoped>\n",
       "    .dataframe tbody tr th:only-of-type {\n",
       "        vertical-align: middle;\n",
       "    }\n",
       "\n",
       "    .dataframe tbody tr th {\n",
       "        vertical-align: top;\n",
       "    }\n",
       "\n",
       "    .dataframe thead th {\n",
       "        text-align: right;\n",
       "    }\n",
       "</style>\n",
       "<table border=\"1\" class=\"dataframe\">\n",
       "  <thead>\n",
       "    <tr style=\"text-align: right;\">\n",
       "      <th></th>\n",
       "      <th>real</th>\n",
       "      <th>imaginary</th>\n",
       "      <th>power</th>\n",
       "      <th>iteration</th>\n",
       "    </tr>\n",
       "  </thead>\n",
       "  <tbody>\n",
       "    <tr>\n",
       "      <th>0</th>\n",
       "      <td>xx</td>\n",
       "      <td>xx</td>\n",
       "      <td>xx</td>\n",
       "      <td>xx</td>\n",
       "    </tr>\n",
       "    <tr>\n",
       "      <th>1</th>\n",
       "      <td>0.01000000000000000020816681711721685132943093...</td>\n",
       "      <td>-10</td>\n",
       "      <td>2</td>\n",
       "      <td>1</td>\n",
       "    </tr>\n",
       "    <tr>\n",
       "      <th>2</th>\n",
       "      <td>-99.99989999999999999999583666</td>\n",
       "      <td>-0.2000000000000000041633363424</td>\n",
       "      <td>2</td>\n",
       "      <td>2</td>\n",
       "    </tr>\n",
       "    <tr>\n",
       "      <th>3</th>\n",
       "      <td>9999.940000009999999997501998</td>\n",
       "      <td>39.99996000000000083266477048</td>\n",
       "      <td>2</td>\n",
       "      <td>3</td>\n",
       "    </tr>\n",
       "    <tr>\n",
       "      <th>4</th>\n",
       "      <td>99997200.00699999719988352714</td>\n",
       "      <td>799994.4000056000158529956498</td>\n",
       "      <td>2</td>\n",
       "      <td>4</td>\n",
       "    </tr>\n",
       "    <tr>\n",
       "      <th>...</th>\n",
       "      <td>...</td>\n",
       "      <td>...</td>\n",
       "      <td>...</td>\n",
       "      <td>...</td>\n",
       "    </tr>\n",
       "    <tr>\n",
       "      <th>977203</th>\n",
       "      <td>2.031360806524753570556640625E+28</td>\n",
       "      <td>-973464764654636383056640625</td>\n",
       "      <td>5</td>\n",
       "      <td>4</td>\n",
       "    </tr>\n",
       "    <tr>\n",
       "      <th>977204</th>\n",
       "      <td>-1.204156818624106165161998352E+84</td>\n",
       "      <td>8.324511947225180231208903029E+84</td>\n",
       "      <td>5</td>\n",
       "      <td>5</td>\n",
       "    </tr>\n",
       "    <tr>\n",
       "      <th>977205</th>\n",
       "      <td>-5.406563914314278307174059474E+254</td>\n",
       "      <td>2.485891486463213907158856505E+254</td>\n",
       "      <td>5</td>\n",
       "      <td>6</td>\n",
       "    </tr>\n",
       "    <tr>\n",
       "      <th>977206</th>\n",
       "      <td>2.026328297007109247747504382E+764</td>\n",
       "      <td>-5.780678626060487185945127585E+763</td>\n",
       "      <td>5</td>\n",
       "      <td>7</td>\n",
       "    </tr>\n",
       "    <tr>\n",
       "      <th>977207</th>\n",
       "      <td>-6.927482398273507496865561345E+2292</td>\n",
       "      <td>6.288748381990925741317026995E+2292</td>\n",
       "      <td>5</td>\n",
       "      <td>8</td>\n",
       "    </tr>\n",
       "  </tbody>\n",
       "</table>\n",
       "<p>36018000 rows × 4 columns</p>\n",
       "</div>"
      ],
      "text/plain": [
       "                                                     real   \n",
       "0                                                      xx  \\\n",
       "1       0.01000000000000000020816681711721685132943093...   \n",
       "2                          -99.99989999999999999999583666   \n",
       "3                           9999.940000009999999997501998   \n",
       "4                           99997200.00699999719988352714   \n",
       "...                                                   ...   \n",
       "977203                  2.031360806524753570556640625E+28   \n",
       "977204                 -1.204156818624106165161998352E+84   \n",
       "977205                -5.406563914314278307174059474E+254   \n",
       "977206                 2.026328297007109247747504382E+764   \n",
       "977207               -6.927482398273507496865561345E+2292   \n",
       "\n",
       "                                  imaginary power iteration  \n",
       "0                                        xx    xx        xx  \n",
       "1                                       -10     2         1  \n",
       "2           -0.2000000000000000041633363424     2         2  \n",
       "3             39.99996000000000083266477048     2         3  \n",
       "4             799994.4000056000158529956498     2         4  \n",
       "...                                     ...   ...       ...  \n",
       "977203         -973464764654636383056640625     5         4  \n",
       "977204    8.324511947225180231208903029E+84     5         5  \n",
       "977205   2.485891486463213907158856505E+254     5         6  \n",
       "977206  -5.780678626060487185945127585E+763     5         7  \n",
       "977207  6.288748381990925741317026995E+2292     5         8  \n",
       "\n",
       "[36018000 rows x 4 columns]"
      ]
     },
     "execution_count": 4,
     "metadata": {},
     "output_type": "execute_result"
    }
   ],
   "source": [
    "print(df.shape)\n",
    "df"
   ]
  },
  {
   "cell_type": "code",
   "execution_count": 5,
   "id": "9940127e",
   "metadata": {},
   "outputs": [
    {
     "name": "stdout",
     "output_type": "stream",
     "text": [
      "(32016000, 4)\n"
     ]
    },
    {
     "data": {
      "text/html": [
       "<div>\n",
       "<style scoped>\n",
       "    .dataframe tbody tr th:only-of-type {\n",
       "        vertical-align: middle;\n",
       "    }\n",
       "\n",
       "    .dataframe tbody tr th {\n",
       "        vertical-align: top;\n",
       "    }\n",
       "\n",
       "    .dataframe thead th {\n",
       "        text-align: right;\n",
       "    }\n",
       "</style>\n",
       "<table border=\"1\" class=\"dataframe\">\n",
       "  <thead>\n",
       "    <tr style=\"text-align: right;\">\n",
       "      <th></th>\n",
       "      <th>real</th>\n",
       "      <th>imaginary</th>\n",
       "      <th>power</th>\n",
       "      <th>iteration</th>\n",
       "    </tr>\n",
       "  </thead>\n",
       "  <tbody>\n",
       "    <tr>\n",
       "      <th>0</th>\n",
       "      <td>0.01000000000000000020816681711721685132943093...</td>\n",
       "      <td>-10</td>\n",
       "      <td>2</td>\n",
       "      <td>1</td>\n",
       "    </tr>\n",
       "    <tr>\n",
       "      <th>1</th>\n",
       "      <td>-99.99989999999999999999583666</td>\n",
       "      <td>-0.2000000000000000041633363424</td>\n",
       "      <td>2</td>\n",
       "      <td>2</td>\n",
       "    </tr>\n",
       "    <tr>\n",
       "      <th>2</th>\n",
       "      <td>9999.940000009999999997501998</td>\n",
       "      <td>39.99996000000000083266477048</td>\n",
       "      <td>2</td>\n",
       "      <td>3</td>\n",
       "    </tr>\n",
       "    <tr>\n",
       "      <th>3</th>\n",
       "      <td>99997200.00699999719988352714</td>\n",
       "      <td>799994.4000056000158529956498</td>\n",
       "      <td>2</td>\n",
       "      <td>4</td>\n",
       "    </tr>\n",
       "    <tr>\n",
       "      <th>4</th>\n",
       "      <td>9998800018199919.920078741394</td>\n",
       "      <td>159994400043679.8889304337581</td>\n",
       "      <td>2</td>\n",
       "      <td>5</td>\n",
       "    </tr>\n",
       "    <tr>\n",
       "      <th>...</th>\n",
       "      <td>...</td>\n",
       "      <td>...</td>\n",
       "      <td>...</td>\n",
       "      <td>...</td>\n",
       "    </tr>\n",
       "    <tr>\n",
       "      <th>32015995</th>\n",
       "      <td>2.031360806524753570556640625E+28</td>\n",
       "      <td>-973464764654636383056640625</td>\n",
       "      <td>5</td>\n",
       "      <td>4</td>\n",
       "    </tr>\n",
       "    <tr>\n",
       "      <th>32015996</th>\n",
       "      <td>-1.204156818624106165161998352E+84</td>\n",
       "      <td>8.324511947225180231208903029E+84</td>\n",
       "      <td>5</td>\n",
       "      <td>5</td>\n",
       "    </tr>\n",
       "    <tr>\n",
       "      <th>32015997</th>\n",
       "      <td>-5.406563914314278307174059474E+254</td>\n",
       "      <td>2.485891486463213907158856505E+254</td>\n",
       "      <td>5</td>\n",
       "      <td>6</td>\n",
       "    </tr>\n",
       "    <tr>\n",
       "      <th>32015998</th>\n",
       "      <td>2.026328297007109247747504382E+764</td>\n",
       "      <td>-5.780678626060487185945127585E+763</td>\n",
       "      <td>5</td>\n",
       "      <td>7</td>\n",
       "    </tr>\n",
       "    <tr>\n",
       "      <th>32015999</th>\n",
       "      <td>-6.927482398273507496865561345E+2292</td>\n",
       "      <td>6.288748381990925741317026995E+2292</td>\n",
       "      <td>5</td>\n",
       "      <td>8</td>\n",
       "    </tr>\n",
       "  </tbody>\n",
       "</table>\n",
       "<p>32016000 rows × 4 columns</p>\n",
       "</div>"
      ],
      "text/plain": [
       "                                                       real   \n",
       "0         0.01000000000000000020816681711721685132943093...  \\\n",
       "1                            -99.99989999999999999999583666   \n",
       "2                             9999.940000009999999997501998   \n",
       "3                             99997200.00699999719988352714   \n",
       "4                             9998800018199919.920078741394   \n",
       "...                                                     ...   \n",
       "32015995                  2.031360806524753570556640625E+28   \n",
       "32015996                 -1.204156818624106165161998352E+84   \n",
       "32015997                -5.406563914314278307174059474E+254   \n",
       "32015998                 2.026328297007109247747504382E+764   \n",
       "32015999               -6.927482398273507496865561345E+2292   \n",
       "\n",
       "                                    imaginary power iteration  \n",
       "0                                         -10     2         1  \n",
       "1             -0.2000000000000000041633363424     2         2  \n",
       "2               39.99996000000000083266477048     2         3  \n",
       "3               799994.4000056000158529956498     2         4  \n",
       "4               159994400043679.8889304337581     2         5  \n",
       "...                                       ...   ...       ...  \n",
       "32015995         -973464764654636383056640625     5         4  \n",
       "32015996    8.324511947225180231208903029E+84     5         5  \n",
       "32015997   2.485891486463213907158856505E+254     5         6  \n",
       "32015998  -5.780678626060487185945127585E+763     5         7  \n",
       "32015999  6.288748381990925741317026995E+2292     5         8  \n",
       "\n",
       "[32016000 rows x 4 columns]"
      ]
     },
     "execution_count": 5,
     "metadata": {},
     "output_type": "execute_result"
    }
   ],
   "source": [
    "# index_xx = df[df['real']=='xx'].index\n",
    "mask = df['real'] != 'xx'\n",
    "df = df.loc[mask]\n",
    "df = df.reset_index(drop=True)\n",
    "print(df.shape)\n",
    "df"
   ]
  },
  {
   "cell_type": "code",
   "execution_count": null,
   "id": "a454957b",
   "metadata": {},
   "outputs": [],
   "source": [
    "def apply_to_decimal(column):\n",
    "    return column.map(to_decimal)\n",
    "\n",
    "df['real'] = apply_to_decimal(df['real'])\n",
    "df['imaginary'] = apply_to_decimal(df['imaginary'])\n",
    "df"
   ]
  },
  {
   "cell_type": "code",
   "execution_count": null,
   "id": "8e20b69a",
   "metadata": {},
   "outputs": [],
   "source": [
    "df = df.replace(to_replace=Decimal('-0.0'),\n",
    "           value=Decimal('0.0'))\n",
    "df[df['imaginary']==Decimal('0.0')]"
   ]
  },
  {
   "cell_type": "code",
   "execution_count": null,
   "id": "3acc8604",
   "metadata": {},
   "outputs": [],
   "source": [
    "quadrant_rule = {(True,True):'A',(False,True):'B',(False,False):'C',(True,False):'D'}"
   ]
  },
  {
   "cell_type": "code",
   "execution_count": null,
   "id": "07f7ea6e",
   "metadata": {},
   "outputs": [],
   "source": [
    "def check_quadrant(real, imaginary):\n",
    "    if real == 0 and imaginary == 0:\n",
    "        return 'O'\n",
    "    elif real == 0 and imaginary != 0:\n",
    "        return 'Y'\n",
    "    elif real != 0 and imaginary == 0:\n",
    "        return 'X'\n",
    "    else:\n",
    "        return quadrant_rule[(real > 0, imaginary > 0)]"
   ]
  },
  {
   "cell_type": "code",
   "execution_count": null,
   "id": "da53abee",
   "metadata": {},
   "outputs": [],
   "source": [
    "df['quadrant'] = df.apply(lambda row: check_quadrant(row['real'],row['imaginary']),axis=1)\n",
    "df['sequence'] = np.nan\n",
    "print(df.shape)\n",
    "df"
   ]
  },
  {
   "cell_type": "code",
   "execution_count": null,
   "id": "03187477",
   "metadata": {},
   "outputs": [],
   "source": [
    "for i,row in df.iterrows():\n",
    "    if row['iteration'] == '1':\n",
    "        sequence = ''\n",
    "        for j in range(0,8):\n",
    "#             print(df.iloc[i+j]['quadrant'],i)\n",
    "            sequence += df.iloc[i+j]['quadrant']\n",
    "        print(sequence,i)\n",
    "        df.at[i,'sequence'] = sequence\n",
    "        "
   ]
  },
  {
   "cell_type": "code",
   "execution_count": null,
   "id": "32661d74",
   "metadata": {},
   "outputs": [],
   "source": [
    "df = df[df['iteration']=='1'].drop('iteration',axis=1).drop('quadrant',axis=1)"
   ]
  },
  {
   "cell_type": "code",
   "execution_count": null,
   "id": "a97cd835",
   "metadata": {},
   "outputs": [],
   "source": [
    "def round_decimal(num, decimal_places=2):\n",
    "    return num.quantize(Decimal('.1') ** decimal_places,\n",
    "                        rounding=ROUND_HALF_UP)\n",
    "\n",
    "# apply the function to the column\n",
    "df['real']=df['real'].map(round_decimal)\n",
    "df['imaginary']=df['imaginary'].map(round_decimal)\n",
    "df.tail(20)"
   ]
  },
  {
   "cell_type": "code",
   "execution_count": null,
   "id": "9b1b4c66",
   "metadata": {},
   "outputs": [],
   "source": [
    "df[df['real']==df['imaginary']].head(20)"
   ]
  },
  {
   "cell_type": "code",
   "execution_count": null,
   "id": "3acca290",
   "metadata": {},
   "outputs": [],
   "source": [
    "df.to_csv('complex_org_p5.csv',index=False)"
   ]
  },
  {
   "cell_type": "code",
   "execution_count": null,
   "id": "2e46878c",
   "metadata": {},
   "outputs": [],
   "source": [
    "df[df['sequence'].astype(str).str[:1]=='B']"
   ]
  },
  {
   "cell_type": "code",
   "execution_count": null,
   "id": "32a04312",
   "metadata": {},
   "outputs": [],
   "source": [
    "df['sequence'].unique().size"
   ]
  },
  {
   "cell_type": "code",
   "execution_count": null,
   "id": "b3221399",
   "metadata": {},
   "outputs": [],
   "source": []
  }
 ],
 "metadata": {
  "kernelspec": {
   "display_name": "Python 3 (ipykernel)",
   "language": "python",
   "name": "python3"
  },
  "language_info": {
   "codemirror_mode": {
    "name": "ipython",
    "version": 3
   },
   "file_extension": ".py",
   "mimetype": "text/x-python",
   "name": "python",
   "nbconvert_exporter": "python",
   "pygments_lexer": "ipython3",
   "version": "3.11.0"
  }
 },
 "nbformat": 4,
 "nbformat_minor": 5
}
