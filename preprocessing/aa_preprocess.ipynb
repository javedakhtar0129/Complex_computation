{
 "cells": [
  {
   "cell_type": "code",
   "execution_count": null,
   "id": "eb61de8b",
   "metadata": {},
   "outputs": [],
   "source": [
    "import pandas as pd\n",
    "import numpy as np\n",
    "from decimal import Decimal"
   ]
  },
  {
   "cell_type": "code",
   "execution_count": null,
   "id": "3dcc5dd2",
   "metadata": {},
   "outputs": [],
   "source": [
    "def to_decimal(data):\n",
    "    if data=='xx':\n",
    "        return 'xx'\n",
    "    return Decimal(data)"
   ]
  },
  {
   "cell_type": "code",
   "execution_count": null,
   "id": "7d6fac2b",
   "metadata": {},
   "outputs": [],
   "source": [
    "df = pd.read_csv(\"/Users/javedakhtar/Documents/JAVED/PROGRAMMING/PYTHON/0Projects/2Meth/complex_raw1.csv\")\n",
    "df.head(20)"
   ]
  },
  {
   "cell_type": "code",
   "execution_count": null,
   "id": "3acc8604",
   "metadata": {},
   "outputs": [],
   "source": [
    "df['real']=df['real'].apply(to_decimal)\n",
    "df['imaginary']=df['imaginary'].apply(to_decimal)\n",
    "df"
   ]
  },
  {
   "cell_type": "code",
   "execution_count": null,
   "id": "9940127e",
   "metadata": {},
   "outputs": [],
   "source": [
    "quadrant_rule = {(True,True):'A',(False,True):'B',(False,False):'C',(True,False):'D'}"
   ]
  },
  {
   "cell_type": "code",
   "execution_count": null,
   "id": "a454957b",
   "metadata": {},
   "outputs": [],
   "source": [
    "index_xx = df[df['real']=='xx'].index\n",
    "df.drop(index_xx,inplace=True)\n",
    "df.reset_index(drop=True,inplace=True)\n",
    "df.iloc[0:24]"
   ]
  },
  {
   "cell_type": "code",
   "execution_count": null,
   "id": "07f7ea6e",
   "metadata": {},
   "outputs": [],
   "source": [
    "def check_quadrant(real,imaginary):\n",
    "    return quadrant_rule[(real>=0,imaginary>=0)]"
   ]
  },
  {
   "cell_type": "code",
   "execution_count": null,
   "id": "da53abee",
   "metadata": {},
   "outputs": [],
   "source": [
    "df['quadrant'] = df.apply(lambda row: check_quadrant(row['real'],row['imaginary']),axis=1)\n",
    "df['sequence'] = np.nan\n",
    "df.head(20)"
   ]
  },
  {
   "cell_type": "code",
   "execution_count": null,
   "id": "03187477",
   "metadata": {},
   "outputs": [],
   "source": [
    "for i,row in df.iterrows():\n",
    "    if row['iteration'] == '1':\n",
    "        sequence = ''\n",
    "        for j in range(0,8):\n",
    "#             print(df.iloc[i+j]['quadrant'],i)\n",
    "            sequence += df.iloc[i+j]['quadrant']\n",
    "        print(sequence,i)\n",
    "        df.at[i,'sequence'] = sequence\n",
    "        "
   ]
  },
  {
   "cell_type": "code",
   "execution_count": null,
   "id": "32661d74",
   "metadata": {},
   "outputs": [],
   "source": [
    "df[df['iteration']=='1'].drop('iteration',axis=1).to_csv('complex_raw4.csv')"
   ]
  },
  {
   "cell_type": "code",
   "execution_count": null,
   "id": "9edb6050",
   "metadata": {},
   "outputs": [],
   "source": []
  }
 ],
 "metadata": {
  "kernelspec": {
   "display_name": "Python 3 (ipykernel)",
   "language": "python",
   "name": "python3"
  },
  "language_info": {
   "codemirror_mode": {
    "name": "ipython",
    "version": 3
   },
   "file_extension": ".py",
   "mimetype": "text/x-python",
   "name": "python",
   "nbconvert_exporter": "python",
   "pygments_lexer": "ipython3",
   "version": "3.11.0"
  }
 },
 "nbformat": 4,
 "nbformat_minor": 5
}
